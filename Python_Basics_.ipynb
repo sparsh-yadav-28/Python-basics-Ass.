{
  "nbformat": 4,
  "nbformat_minor": 0,
  "metadata": {
    "colab": {
      "provenance": []
    },
    "kernelspec": {
      "name": "python3",
      "display_name": "Python 3"
    },
    "language_info": {
      "name": "python"
    }
  },
  "cells": [
    {
      "cell_type": "markdown",
      "source": [
        "1. What is Python, and why is it popular\n",
        "   - Python is a high-level, easy-to-learn programming language known for its clean and simple syntax.\n",
        "   -It's popular because it's user-friendly & powerful enough for advanced tasks. And also used by big companies.\n",
        "   "
      ],
      "metadata": {
        "id": "3VSXq8SwL0nO"
      }
    },
    {
      "cell_type": "markdown",
      "source": [
        "2. What is an interpreter in Python ?\n",
        "   - An interpreter in Python is a program that reads and executes Python code line by line."
      ],
      "metadata": {
        "id": "3LkmhhvIMX04"
      }
    },
    {
      "cell_type": "markdown",
      "source": [
        "3.What are pre-defined keywords in Python\n",
        "  - Pre-defined keywords in Python are  reserved words that have specific meanings and tasks."
      ],
      "metadata": {
        "id": "VE3_MCO0MnSv"
      }
    },
    {
      "cell_type": "markdown",
      "source": [
        "4. Can keywords be used as variable names\n",
        "  - yes But, it will change its basic and pre defined function that it is meant for .So it is preferable not to use it as variable"
      ],
      "metadata": {
        "id": "hzlKH4-bM_kR"
      }
    },
    {
      "cell_type": "markdown",
      "source": [
        "5. What is mutability in Python\n",
        "  - Mutability in Python refers to whether an object’s value can be changed after it's created.\n",
        "  - Mutable objects like lists can be changed, while immutable ones like strings cannot.\n",
        "\n",
        "\n",
        "\n",
        "\n",
        "\n",
        "\n",
        "\n",
        "\n"
      ],
      "metadata": {
        "id": "XImPOS7HNZ8R"
      }
    },
    {
      "cell_type": "markdown",
      "source": [
        "6.  Why are lists mutable, but tuples are immutable\n",
        "  - Lists are mutable because they’re designed to store dynamic data that can change over time.\n",
        "  - Tuples are immutable to ensure data stays constant, which makes them safer and faster to use.\n"
      ],
      "metadata": {
        "id": "eq2FO3WyNxp0"
      }
    },
    {
      "cell_type": "markdown",
      "source": [
        "7. What is the difference between “==” and “is” operators in Python\n",
        "  - The == operator checks if two values are equal in content.\n",
        "  - The is operator checks if two variables point to the exact same object in memory.\n",
        "\n",
        "\n",
        "\n",
        "\n",
        "\n",
        "\n",
        "\n",
        "\n",
        "\n"
      ],
      "metadata": {
        "id": "tODKqdCsN_l7"
      }
    },
    {
      "cell_type": "markdown",
      "source": [
        "8. What are logical operators in Python\n",
        "  - Logical operators in Python are used to perform operations on variables for any task. ex. AND ,OR ,NOT\n"
      ],
      "metadata": {
        "id": "68a2EdciOQ6H"
      }
    },
    {
      "cell_type": "markdown",
      "source": [
        "9. What is type casting in Python\n",
        "  - Type casting in Python means converting a value from one data type to another. EX int(\"5\") from str -> int"
      ],
      "metadata": {
        "id": "wHzDE1lMPArK"
      }
    },
    {
      "cell_type": "markdown",
      "source": [
        "10. What is the difference between implicit and explicit type casting\n",
        "  - Implicit type casting is done automatically by Python when it converts one data type to another.\n",
        "  -Explicit type casting is when you manually convert data using functions like int()"
      ],
      "metadata": {
        "id": "VProx-P7PQqg"
      }
    },
    {
      "cell_type": "markdown",
      "source": [
        "11. What is the purpose of conditional statements in Python\n",
        "  - Conditional statements in Python are used to make decisions in a program based on certain conditions ex. if, elif, and else"
      ],
      "metadata": {
        "id": "rVpi98JRPjkh"
      }
    },
    {
      "cell_type": "markdown",
      "source": [
        "12.  How does the elif statement work\n",
        "  - The elif statement checks another condition if the previous if condition is False and execute that .if that also comes false then it pass the interpreter forward."
      ],
      "metadata": {
        "id": "WL-03tHFP51d"
      }
    },
    {
      "cell_type": "markdown",
      "source": [
        "13.  What is the difference between for and while loops\n",
        "  - A while loop runs as long as a condition stays True\n",
        "  and for loop runs for each value"
      ],
      "metadata": {
        "id": "nYW85YZFQbEm"
      }
    },
    {
      "cell_type": "markdown",
      "source": [
        "14.  Describe a scenario where a while loop is more suitable than a for loop\n",
        "  - This loop keeps running as long as the number is less than 5.\n",
        "It’s useful when you want the loop to depend on a condition, not a fixed count.\n",
        "  number = 1\n",
        "while number < 5:\n",
        "    print(number)\n",
        "    number += 1"
      ],
      "metadata": {
        "id": "TX1lQ1CcRGAW"
      }
    },
    {
      "cell_type": "markdown",
      "source": [
        "***Practical Questions*** :----->\n"
      ],
      "metadata": {
        "id": "j-5MqDcwRgsy"
      }
    },
    {
      "cell_type": "markdown",
      "source": [
        " 1. Write a Python program to print \"Hello, Worldl\""
      ],
      "metadata": {
        "id": "TAW8ezMXC5aQ"
      }
    },
    {
      "cell_type": "code",
      "source": [
        "print(\"hello world\")"
      ],
      "metadata": {
        "colab": {
          "base_uri": "https://localhost:8080/"
        },
        "id": "8s3jEXSWCxOu",
        "outputId": "12ee2df7-dc13-4c00-989d-5ee592889c00"
      },
      "execution_count": null,
      "outputs": [
        {
          "output_type": "stream",
          "name": "stdout",
          "text": [
            "hello world\n"
          ]
        }
      ]
    },
    {
      "cell_type": "markdown",
      "source": [
        " 2. Write a Python program that displays your name and age"
      ],
      "metadata": {
        "id": "HdBA72-pDH1T"
      }
    },
    {
      "cell_type": "code",
      "source": [
        "print(\"Name = Sparsh Yadav\")\n",
        "print(\"Age = 27\")"
      ],
      "metadata": {
        "id": "y4GOKwvWDTk2",
        "colab": {
          "base_uri": "https://localhost:8080/"
        },
        "outputId": "6ab9cf94-5fff-487f-9fd6-d7c855f6c396"
      },
      "execution_count": 8,
      "outputs": [
        {
          "output_type": "stream",
          "name": "stdout",
          "text": [
            "Name = Sparsh Yadav\n",
            "Age = 27\n"
          ]
        }
      ]
    },
    {
      "cell_type": "markdown",
      "source": [
        "3. Write code to print all the pre-defined keywords in Python using the keyword library"
      ],
      "metadata": {
        "id": "z5-7ztwmE299"
      }
    },
    {
      "cell_type": "code",
      "source": [
        "help('keywords')"
      ],
      "metadata": {
        "id": "dlOJuPaNFAVL",
        "colab": {
          "base_uri": "https://localhost:8080/"
        },
        "outputId": "78957a49-6337-4276-bb20-3a031a1ab240"
      },
      "execution_count": 9,
      "outputs": [
        {
          "output_type": "stream",
          "name": "stdout",
          "text": [
            "\n",
            "Here is a list of the Python keywords.  Enter any keyword to get more help.\n",
            "\n",
            "False               class               from                or\n",
            "None                continue            global              pass\n",
            "True                def                 if                  raise\n",
            "and                 del                 import              return\n",
            "as                  elif                in                  try\n",
            "assert              else                is                  while\n",
            "async               except              lambda              with\n",
            "await               finally             nonlocal            yield\n",
            "break               for                 not                 \n",
            "\n"
          ]
        }
      ]
    },
    {
      "cell_type": "markdown",
      "source": [
        "4. Write a program that checks if a given word is a Python keyword."
      ],
      "metadata": {
        "id": "13fSzpY0FYYy"
      }
    },
    {
      "cell_type": "code",
      "source": [
        "import keyword\n",
        "w = input(\"Enter a word \")\n",
        "\n",
        "if keyword.iskeyword(w):\n",
        "    print(f\"'{w}' is a Python keyword.\")\n",
        "else:\n",
        "    print(f\"'{w}' is not a Python keyword.\")"
      ],
      "metadata": {
        "colab": {
          "base_uri": "https://localhost:8080/"
        },
        "id": "INQ0EiM4LNqO",
        "outputId": "2d371176-32fc-42ae-a33e-a2433e089244"
      },
      "execution_count": 10,
      "outputs": [
        {
          "output_type": "stream",
          "name": "stdout",
          "text": [
            "Enter a word if\n",
            "'if' is a Python keyword.\n"
          ]
        }
      ]
    },
    {
      "cell_type": "markdown",
      "source": [
        "5.  Create a list and tuple in Python, and demonstrate how attempting to change an element works differently\n",
        "for each."
      ],
      "metadata": {
        "id": "OS6rxKdyZxFC"
      }
    },
    {
      "cell_type": "code",
      "source": [
        "\n",
        "list = [10, 20, 30]\n",
        "print(list)\n",
        "\n",
        "# Changing an element in the list\n",
        "list[1] = 99\n",
        "print(list)\n",
        "\n",
        "# Creating a tuple\n",
        "my_tuple = (10, 20, 30)\n",
        "print(my_tuple)\n",
        "\n",
        "# Trying to change an element in the tuple (this will raise an error)\n"
      ],
      "metadata": {
        "colab": {
          "base_uri": "https://localhost:8080/"
        },
        "id": "y-bc3fZcaItj",
        "outputId": "8f30d88f-7863-4687-cb0e-9e9813c89f31"
      },
      "execution_count": 11,
      "outputs": [
        {
          "output_type": "stream",
          "name": "stdout",
          "text": [
            "[10, 20, 30]\n",
            "[10, 99, 30]\n",
            "(10, 20, 30)\n"
          ]
        }
      ]
    },
    {
      "cell_type": "markdown",
      "source": [
        "6. Write a function to demonstrate the behavior of mutable and immutable arguments"
      ],
      "metadata": {
        "id": "JT0_DUiPavJX"
      }
    },
    {
      "cell_type": "code",
      "source": [
        "# Mutable\n",
        "list = [10, 20, 30]\n",
        "print(list)\n",
        "list[1] = 99\n",
        "print(list)\n",
        "# Immutable\n",
        "my_tuple = (10, 20, 30)\n",
        "print(my_tuple)\n"
      ],
      "metadata": {
        "colab": {
          "base_uri": "https://localhost:8080/"
        },
        "id": "cGw0btDEaxzv",
        "outputId": "21ba3684-a9d1-4e03-9a7c-5421e55d52b8"
      },
      "execution_count": 12,
      "outputs": [
        {
          "output_type": "stream",
          "name": "stdout",
          "text": [
            "[10, 20, 30]\n",
            "[10, 99, 30]\n",
            "(10, 20, 30)\n"
          ]
        }
      ]
    },
    {
      "cell_type": "markdown",
      "source": [
        "7.  Write a program that performs basic arithmetic operations on two user-input numbers."
      ],
      "metadata": {
        "id": "5xhBidmLc3xX"
      }
    },
    {
      "cell_type": "code",
      "source": [
        "a = int(input(\"First number: \"))\n",
        "b = int(input(\"Second number: \"))\n",
        "\n",
        "print(a + b)"
      ],
      "metadata": {
        "colab": {
          "base_uri": "https://localhost:8080/"
        },
        "id": "9iSYSECXc4OO",
        "outputId": "e1971032-2561-4592-9089-76369e950383"
      },
      "execution_count": 13,
      "outputs": [
        {
          "output_type": "stream",
          "name": "stdout",
          "text": [
            "First number: 5\n",
            "Second number: 6\n",
            "11\n"
          ]
        }
      ]
    },
    {
      "cell_type": "markdown",
      "source": [
        "8.  Write a program to demonstrate the use of logical operators"
      ],
      "metadata": {
        "id": "EAONsFiZdOGO"
      }
    },
    {
      "cell_type": "code",
      "source": [
        "a = 10\n",
        "b = 5\n",
        "\n",
        "print(a > 5 and b < 10)   # True and True → True\n",
        "print(a < 5 or b < 10)    # False or True → True\n",
        "print(not(a == 10))       # not True → False"
      ],
      "metadata": {
        "colab": {
          "base_uri": "https://localhost:8080/"
        },
        "id": "uWrSPu3fdMM9",
        "outputId": "a10d9b66-0569-4489-95ef-16345452d794"
      },
      "execution_count": 3,
      "outputs": [
        {
          "output_type": "stream",
          "name": "stdout",
          "text": [
            "True\n",
            "True\n",
            "False\n"
          ]
        }
      ]
    },
    {
      "cell_type": "markdown",
      "source": [
        "9. . Write a Python program to convert user input from string to integer, float, and boolean types."
      ],
      "metadata": {
        "id": "sCSVdu85deTI"
      }
    },
    {
      "cell_type": "code",
      "source": [
        "x = input(\"Enter something: \")\n",
        "\n",
        "print(int(x))\n",
        "print(float(x))\n",
        "print(bool(x))\n"
      ],
      "metadata": {
        "colab": {
          "base_uri": "https://localhost:8080/"
        },
        "id": "I-uAitkjdgW8",
        "outputId": "0f034df1-0e23-41a0-9778-78fa3439733b"
      },
      "execution_count": 14,
      "outputs": [
        {
          "output_type": "stream",
          "name": "stdout",
          "text": [
            "Enter something: 56\n",
            "56\n",
            "56.0\n",
            "True\n"
          ]
        }
      ]
    },
    {
      "cell_type": "markdown",
      "source": [
        "10. Write code to demonstrate type casting with list elements."
      ],
      "metadata": {
        "id": "ifyvqlMkd3QO"
      }
    },
    {
      "cell_type": "code",
      "source": [
        "nums = [\"4\", \"5\", \"6\"]\n",
        "nums = [int(n) for n in nums]\n",
        "print(nums)\n"
      ],
      "metadata": {
        "colab": {
          "base_uri": "https://localhost:8080/"
        },
        "id": "Yk2jo2amd7Hv",
        "outputId": "224e95ee-430e-4d22-c126-27d7e170b3d4"
      },
      "execution_count": 5,
      "outputs": [
        {
          "output_type": "stream",
          "name": "stdout",
          "text": [
            "[4, 5, 6]\n"
          ]
        }
      ]
    },
    {
      "cell_type": "markdown",
      "source": [
        "11. Write a program that checks if a number is positive, negative, or zero."
      ],
      "metadata": {
        "id": "BXhXu0MueF-0"
      }
    },
    {
      "cell_type": "code",
      "source": [
        "n = int(input(\"Enter a number: \"))\n",
        "\n",
        "if n > 0:\n",
        "    print(\"Positive\")\n",
        "elif n < 0:\n",
        "    print(\"Negative\")\n",
        "else:\n",
        "    print(\"Zero\")\n"
      ],
      "metadata": {
        "colab": {
          "base_uri": "https://localhost:8080/"
        },
        "id": "7PrTpEKzeIkA",
        "outputId": "f69010a0-3b04-44c2-dadc-d0ce4c9d3bd0"
      },
      "execution_count": 15,
      "outputs": [
        {
          "output_type": "stream",
          "name": "stdout",
          "text": [
            "Enter a number: 5\n",
            "Positive\n"
          ]
        }
      ]
    },
    {
      "cell_type": "markdown",
      "source": [
        "12.  Write a for loop to print numbers from 1 to 10\n"
      ],
      "metadata": {
        "id": "h7t6ikAXeSNf"
      }
    },
    {
      "cell_type": "code",
      "source": [
        "for i in range(1, 11):\n",
        "    print(i)\n"
      ],
      "metadata": {
        "colab": {
          "base_uri": "https://localhost:8080/"
        },
        "id": "OP8fnp6ueTjk",
        "outputId": "b59bef64-b824-4121-9b6e-110b1fccd52a"
      },
      "execution_count": 16,
      "outputs": [
        {
          "output_type": "stream",
          "name": "stdout",
          "text": [
            "1\n",
            "2\n",
            "3\n",
            "4\n",
            "5\n",
            "6\n",
            "7\n",
            "8\n",
            "9\n",
            "10\n"
          ]
        }
      ]
    },
    {
      "cell_type": "markdown",
      "source": [
        "13.  Write a Python program to find the sum of all even numbers between 1 and 50.\n",
        "\n"
      ],
      "metadata": {
        "id": "ECvBBbUxebC-"
      }
    },
    {
      "cell_type": "code",
      "source": [
        "total = 0\n",
        "\n",
        "for i in range(2, 51, 2):\n",
        "    total += i\n",
        "\n",
        "print(\"Sum of even numbers from 1 to 50:\", total)\n"
      ],
      "metadata": {
        "colab": {
          "base_uri": "https://localhost:8080/"
        },
        "id": "Xgd98nOPedAi",
        "outputId": "e1c16d98-67c4-40d5-a1a4-998cf3687de4"
      },
      "execution_count": 17,
      "outputs": [
        {
          "output_type": "stream",
          "name": "stdout",
          "text": [
            "Sum of even numbers from 1 to 50: 650\n"
          ]
        }
      ]
    },
    {
      "cell_type": "markdown",
      "source": [
        "14.  Write a program to reverse a string using a while loop."
      ],
      "metadata": {
        "id": "_vqv8H43epW9"
      }
    },
    {
      "cell_type": "code",
      "source": [
        "s = input(\"Enter a string: \")\n",
        "i = len(s) - 1\n",
        "\n",
        "while i >= 0:\n",
        "    print(s[i], end=\"\")\n",
        "    i -= 1"
      ],
      "metadata": {
        "colab": {
          "base_uri": "https://localhost:8080/"
        },
        "id": "2XARq5B9er7C",
        "outputId": "d78a66d5-e845-431a-9f2a-d4273531f1a5"
      },
      "execution_count": 18,
      "outputs": [
        {
          "output_type": "stream",
          "name": "stdout",
          "text": [
            "Enter a string: ram\n",
            "mar"
          ]
        }
      ]
    },
    {
      "cell_type": "markdown",
      "source": [
        "15. Write a Python program to calculate the factorial of a number provided by the user using a while loop"
      ],
      "metadata": {
        "id": "YnFNjQEefH3u"
      }
    },
    {
      "cell_type": "code",
      "source": [
        "n = int(input())\n",
        "f = 1\n",
        "while n > 0:\n",
        "    f *= n\n",
        "    n -= 1\n",
        "print(f)\n"
      ],
      "metadata": {
        "colab": {
          "base_uri": "https://localhost:8080/"
        },
        "id": "7sBOzpy_fJtR",
        "outputId": "814a7bee-8380-43f2-b2dc-db693d71ff71"
      },
      "execution_count": 7,
      "outputs": [
        {
          "output_type": "stream",
          "name": "stdout",
          "text": [
            "5\n",
            "120\n"
          ]
        }
      ]
    },
    {
      "cell_type": "code",
      "source": [],
      "metadata": {
        "id": "B4ZaonYLfRAi"
      },
      "execution_count": null,
      "outputs": []
    }
  ]
}